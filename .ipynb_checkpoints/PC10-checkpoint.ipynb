{
 "cells": [
  {
   "cell_type": "code",
   "execution_count": 1,
   "metadata": {},
   "outputs": [],
   "source": [
    "import os\n",
    "import csv\n",
    "import pandas as pd\n",
    "import numpy as np\n",
    "import matplotlib.pyplot as plt\n",
    "from pandas.plotting import table"
   ]
  },
  {
   "cell_type": "code",
   "execution_count": null,
   "metadata": {
    "scrolled": false
   },
   "outputs": [],
   "source": [
    "# Read in CSV\n",
    "csvpath = \"Resources/csv/PC10.csv\"\n",
    "pc10_df = pd.read_csv(open(csvpath))\n",
    "\n",
    "# Set index to start at 1 and replace NaN with blanks\n",
    "pc10_df.index = pc10_df.index + 1\n",
    "pc10_df = pc10_df.replace(np.nan, '', regex=True)\n",
    "\n",
    "# Plot table with matplotlib\n",
    "ax = plt.subplot(111, frame_on=False)\n",
    "ax.xaxis.set_visible(False)\n",
    "ax.yaxis.set_visible(False)\n",
    "table(ax, pc10_df)\n",
    "figure = plt.gcf()\n",
    "figure.set_size_inches(16,9)\n",
    "\n",
    "# Save as png file\n",
    "plt.savefig('pc10.png', bbox_inches = 'tight', dpi=100)"
   ]
  },
  {
   "cell_type": "code",
   "execution_count": null,
   "metadata": {},
   "outputs": [],
   "source": []
  }
 ],
 "metadata": {
  "kernelspec": {
   "display_name": "Python [conda env:PythonData]",
   "language": "python",
   "name": "conda-env-PythonData-py"
  },
  "language_info": {
   "codemirror_mode": {
    "name": "ipython",
    "version": 3
   },
   "file_extension": ".py",
   "mimetype": "text/x-python",
   "name": "python",
   "nbconvert_exporter": "python",
   "pygments_lexer": "ipython3",
   "version": "3.8.1"
  }
 },
 "nbformat": 4,
 "nbformat_minor": 4
}
